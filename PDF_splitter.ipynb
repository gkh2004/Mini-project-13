{
  "nbformat": 4,
  "nbformat_minor": 0,
  "metadata": {
    "colab": {
      "provenance": [],
      "authorship_tag": "ABX9TyP/+3Qcjp893C16cQVzb8NQ",
      "include_colab_link": true
    },
    "kernelspec": {
      "name": "python3",
      "display_name": "Python 3"
    },
    "language_info": {
      "name": "python"
    }
  },
  "cells": [
    {
      "cell_type": "markdown",
      "metadata": {
        "id": "view-in-github",
        "colab_type": "text"
      },
      "source": [
        "<a href=\"https://colab.research.google.com/github/gkh2004/Mini-project-13/blob/main/PDF_splitter.ipynb\" target=\"_parent\"><img src=\"https://colab.research.google.com/assets/colab-badge.svg\" alt=\"Open In Colab\"/></a>"
      ]
    },
    {
      "cell_type": "code",
      "execution_count": 4,
      "metadata": {
        "colab": {
          "base_uri": "https://localhost:8080/"
        },
        "id": "b65Bb00FsHZy",
        "outputId": "8a16dde7-33a9-49ea-f1d8-48fb5273d471"
      },
      "outputs": [
        {
          "output_type": "stream",
          "name": "stdout",
          "text": [
            "Requirement already satisfied: PyPDF2 in /usr/local/lib/python3.11/dist-packages (3.0.1)\n"
          ]
        }
      ],
      "source": [
        "!pip install PyPDF2\n"
      ]
    },
    {
      "cell_type": "code",
      "source": [
        "import PyPDF2\n",
        "\n",
        "def split_pdf(input_pdf, start_page, end_page, output_pdf):\n",
        "    try:\n",
        "        with open(input_pdf, 'rb') as file:\n",
        "            reader = PyPDF2.PdfReader(file)\n",
        "            writer = PyPDF2.PdfWriter()\n",
        "\n",
        "            # Adjusting for 0-based index\n",
        "            for page_num in range(start_page - 1, end_page):\n",
        "                writer.add_page(reader.pages[page_num])\n",
        "\n",
        "            with open(output_pdf, 'wb') as output:\n",
        "                writer.write(output)\n",
        "\n",
        "        print(f\"PDF split successfully! Pages {start_page} to {end_page} saved to {output_pdf}\")\n",
        "\n",
        "    except Exception as e:\n",
        "        print(f\"An error occurred: {e}\")\n",
        "\n",
        "# Example usage\n",
        "input_pdf_path = \"file.pdf\"\n",
        "start = 2\n",
        "end = 4\n",
        "output_pdf_path = \"output_split.pdf\"\n",
        "\n",
        "split_pdf(input_pdf_path, start, end, output_pdf_path)\n"
      ],
      "metadata": {
        "colab": {
          "base_uri": "https://localhost:8080/"
        },
        "id": "WI5RPFwSsOFk",
        "outputId": "9d868c04-5aa5-48c6-b0ec-8e82e54a67e1"
      },
      "execution_count": 7,
      "outputs": [
        {
          "output_type": "stream",
          "name": "stdout",
          "text": [
            "PDF split successfully! Pages 2 to 4 saved to output_split.pdf\n"
          ]
        }
      ]
    }
  ]
}